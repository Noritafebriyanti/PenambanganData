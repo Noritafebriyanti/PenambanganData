{
 "cells": [
  {
   "cell_type": "markdown",
   "metadata": {},
   "source": [
    "## Seleksi Fitur ##\n",
    "   Seleksi fitur adalah teknik untuk memilih fitur penting dan relevan terhadap data dan mengurangi fitur yang tidak relevan. Seleksi fitur bertujuan untuk memilih fitur terbaik dari suatu kumpulan data fitur. Seleksi fitur bertujuan untuk memilih fitur terbaik dari suatu kumpulan data fitur. Tujuan dari penelitian ini adalah menerapkan metode Information Gain dalam sistem seleksi fitur untuk Permasalahan cuaca . Metode Information Gain adalah metode yang menggunakan teknik scoring untuk pembobotan sebuah fitur dengan menggunakan maksimal entropy. Fitur yang dipilih adalah fitur dengan nilai Information Gain yang lebih besar atau sama dengan nilai threshold tertentu."
   ]
  },
  {
   "cell_type": "code",
   "execution_count": 40,
   "metadata": {},
   "outputs": [],
   "source": [
    "from scipy import stats\n",
    "import numpy as np\n",
    "import seaborn as sns\n",
    "import matplotlib.pyplot as plt\n",
    "import pandas as pd\n",
    "import math"
   ]
  },
  {
   "cell_type": "code",
   "execution_count": 41,
   "metadata": {},
   "outputs": [
    {
     "data": {
      "text/html": [
       "<div>\n",
       "<style scoped>\n",
       "    .dataframe tbody tr th:only-of-type {\n",
       "        vertical-align: middle;\n",
       "    }\n",
       "\n",
       "    .dataframe tbody tr th {\n",
       "        vertical-align: top;\n",
       "    }\n",
       "\n",
       "    .dataframe thead th {\n",
       "        text-align: right;\n",
       "    }\n",
       "</style>\n",
       "<table border=\"1\" class=\"dataframe\">\n",
       "  <thead>\n",
       "    <tr style=\"text-align: right;\">\n",
       "      <th></th>\n",
       "      <th>outlook</th>\n",
       "      <th>temperature</th>\n",
       "      <th>humidity</th>\n",
       "      <th>windy</th>\n",
       "      <th>play</th>\n",
       "    </tr>\n",
       "  </thead>\n",
       "  <tbody>\n",
       "    <tr>\n",
       "      <th>0</th>\n",
       "      <td>sunny</td>\n",
       "      <td>hot</td>\n",
       "      <td>high</td>\n",
       "      <td>False</td>\n",
       "      <td>no</td>\n",
       "    </tr>\n",
       "    <tr>\n",
       "      <th>1</th>\n",
       "      <td>sunny</td>\n",
       "      <td>hot</td>\n",
       "      <td>high</td>\n",
       "      <td>True</td>\n",
       "      <td>no</td>\n",
       "    </tr>\n",
       "    <tr>\n",
       "      <th>2</th>\n",
       "      <td>overcast</td>\n",
       "      <td>hot</td>\n",
       "      <td>high</td>\n",
       "      <td>False</td>\n",
       "      <td>yes</td>\n",
       "    </tr>\n",
       "    <tr>\n",
       "      <th>3</th>\n",
       "      <td>rainy</td>\n",
       "      <td>mild</td>\n",
       "      <td>high</td>\n",
       "      <td>False</td>\n",
       "      <td>yes</td>\n",
       "    </tr>\n",
       "    <tr>\n",
       "      <th>4</th>\n",
       "      <td>rainy</td>\n",
       "      <td>cool</td>\n",
       "      <td>normal</td>\n",
       "      <td>False</td>\n",
       "      <td>yes</td>\n",
       "    </tr>\n",
       "    <tr>\n",
       "      <th>5</th>\n",
       "      <td>rainy</td>\n",
       "      <td>cool</td>\n",
       "      <td>normal</td>\n",
       "      <td>True</td>\n",
       "      <td>no</td>\n",
       "    </tr>\n",
       "    <tr>\n",
       "      <th>6</th>\n",
       "      <td>overcast</td>\n",
       "      <td>cool</td>\n",
       "      <td>normal</td>\n",
       "      <td>True</td>\n",
       "      <td>yes</td>\n",
       "    </tr>\n",
       "    <tr>\n",
       "      <th>7</th>\n",
       "      <td>sunny</td>\n",
       "      <td>mild</td>\n",
       "      <td>high</td>\n",
       "      <td>False</td>\n",
       "      <td>no</td>\n",
       "    </tr>\n",
       "    <tr>\n",
       "      <th>8</th>\n",
       "      <td>sunny</td>\n",
       "      <td>cool</td>\n",
       "      <td>normal</td>\n",
       "      <td>False</td>\n",
       "      <td>yes</td>\n",
       "    </tr>\n",
       "    <tr>\n",
       "      <th>9</th>\n",
       "      <td>rainy</td>\n",
       "      <td>mild</td>\n",
       "      <td>normal</td>\n",
       "      <td>False</td>\n",
       "      <td>yes</td>\n",
       "    </tr>\n",
       "    <tr>\n",
       "      <th>10</th>\n",
       "      <td>sunny</td>\n",
       "      <td>mild</td>\n",
       "      <td>normal</td>\n",
       "      <td>True</td>\n",
       "      <td>yes</td>\n",
       "    </tr>\n",
       "    <tr>\n",
       "      <th>11</th>\n",
       "      <td>overcast</td>\n",
       "      <td>mild</td>\n",
       "      <td>high</td>\n",
       "      <td>True</td>\n",
       "      <td>yes</td>\n",
       "    </tr>\n",
       "    <tr>\n",
       "      <th>12</th>\n",
       "      <td>overcast</td>\n",
       "      <td>hot</td>\n",
       "      <td>normal</td>\n",
       "      <td>False</td>\n",
       "      <td>yes</td>\n",
       "    </tr>\n",
       "    <tr>\n",
       "      <th>13</th>\n",
       "      <td>rainy</td>\n",
       "      <td>mild</td>\n",
       "      <td>high</td>\n",
       "      <td>True</td>\n",
       "      <td>no</td>\n",
       "    </tr>\n",
       "  </tbody>\n",
       "</table>\n",
       "</div>"
      ],
      "text/plain": [
       "     outlook temperature humidity  windy play\n",
       "0      sunny         hot     high  False   no\n",
       "1      sunny         hot     high   True   no\n",
       "2   overcast         hot     high  False  yes\n",
       "3      rainy        mild     high  False  yes\n",
       "4      rainy        cool   normal  False  yes\n",
       "5      rainy        cool   normal   True   no\n",
       "6   overcast        cool   normal   True  yes\n",
       "7      sunny        mild     high  False   no\n",
       "8      sunny        cool   normal  False  yes\n",
       "9      rainy        mild   normal  False  yes\n",
       "10     sunny        mild   normal   True  yes\n",
       "11  overcast        mild     high   True  yes\n",
       "12  overcast         hot   normal  False  yes\n",
       "13     rainy        mild     high   True   no"
      ]
     },
     "execution_count": 41,
     "metadata": {},
     "output_type": "execute_result"
    }
   ],
   "source": [
    "df = pd.read_csv('feature selection1.csv')\n",
    "df"
   ]
  },
  {
   "cell_type": "markdown",
   "metadata": {},
   "source": [
    "### mencari entropy ###\n",
    "Untuk menghitung Information gain perlu dihitung dahulu nilai informasi dalam suatu bits dari suatu kumpulan obyek. Cara penghitungan dilakukan dengan menggunakan konsep entropi. Entropi menyatakan impurity suatu kumpulan obyek . Berikut merupakan definisi dari entropi suatu ruang sampel data (S):\n",
    "$$ E(T) = \\sum_{i=1}^n {-P_i\\log{P_i}} $$"
   ]
  },
  {
   "cell_type": "code",
   "execution_count": 42,
   "metadata": {},
   "outputs": [],
   "source": [
    "def banyak_elemen (kolom, data):\n",
    "    kelas=[]\n",
    "    for i in range (len(data)):\n",
    "        if data.values.tolist()[i][kolom] not in kelas:\n",
    "            kelas.append(data.values.tolist()[i][kolom])\n",
    "    return kelas"
   ]
  },
  {
   "cell_type": "code",
   "execution_count": 43,
   "metadata": {},
   "outputs": [],
   "source": [
    "def entropy(T):\n",
    "    hasil=0\n",
    "    jumlah=0\n",
    "    for y in T:\n",
    "        jumlah+=y\n",
    "    for z in range (len(T)):\n",
    "        if jumlah!=0:\n",
    "            T[z]=T[z]/jumlah\n",
    "\n",
    "    for i in T:\n",
    "        if i != 0:\n",
    "            hasil-=i*math.log(i,2)\n",
    "    return hasil"
   ]
  },
  {
   "cell_type": "code",
   "execution_count": 44,
   "metadata": {},
   "outputs": [],
   "source": [
    "def probJenis(jenis,kelas,kolomJenis,kolomKelas,data):\n",
    "    hasil=[]\n",
    "    for x in range (len(kelas)):\n",
    "        hasil.append(0)\n",
    "    for i in range (len(data)):\n",
    "        if data.values.tolist()[i][kolomJenis] == jenis:\n",
    "            for j in range (len(kelas)):\n",
    "                if data.values.tolist()[i][kolomKelas] == kelas[j]:\n",
    "                    hasil[j]+=1\n",
    "    return hasil"
   ]
  },
  {
   "cell_type": "code",
   "execution_count": 45,
   "metadata": {},
   "outputs": [],
   "source": [
    "def t_list(atribut,n):\n",
    "    temp=[]\n",
    "    for i in range(len(atribut)):\n",
    "        temp.append(probJenis(atribut[i],kelas,df.shape[1]-n,df.shape[1]-1,df))\n",
    "    return temp"
   ]
  },
  {
   "cell_type": "code",
   "execution_count": 46,
   "metadata": {},
   "outputs": [],
   "source": [
    "def e_list(atribut,n):\n",
    "    temp=[]\n",
    "    tx=t_list(atribut,n)\n",
    "    for i in range (len(atribut)):\n",
    "        ent=entropy(tx[i])\n",
    "        temp.append(ent)\n",
    "    return temp"
   ]
  },
  {
   "cell_type": "code",
   "execution_count": 47,
   "metadata": {},
   "outputs": [],
   "source": [
    "def probKelas(kelas,kolomKelas,data):\n",
    "    hasil=[]\n",
    "    for x in range(len(kelas)):\n",
    "        hasil.append(0)\n",
    "    for i in range (len(data)):\n",
    "        for j in range (len(kelas)):\n",
    "            if data.values.tolist()[i][kolomKelas] == kelas[j]:\n",
    "                hasil[j]+=1\n",
    "    return hasil"
   ]
  },
  {
   "cell_type": "markdown",
   "metadata": {},
   "source": [
    "### Gain ###\n",
    "Gain adalah sebuah fiktur yang terdapat pada sebuah data , untuk menghitungnya contoh rumusnya : $$ \\operatorname{Gain}(T, X) = \\operatorname{Entropy}(T) - \\sum_{v\\in{T}} \\frac{T_{X,v}}{T} E(T_{X,v}) $$"
   ]
  },
  {
   "cell_type": "code",
   "execution_count": 48,
   "metadata": {},
   "outputs": [],
   "source": [
    "def gain(T_list,E_list,pKelas,data):\n",
    "    txv=0\n",
    "    for i in range (len(E_list)):\n",
    "        jumlah=0\n",
    "        for y in range (len(T_list[i])):\n",
    "            jumlah+=T_list[i][y]\n",
    "        txv+=jumlah/(len(data))*(E_list[i])\n",
    "    eUtama=entropy(pKelas)\n",
    "    hasil=eUtama-txv\n",
    "    return hasil"
   ]
  },
  {
   "cell_type": "code",
   "execution_count": 49,
   "metadata": {},
   "outputs": [],
   "source": [
    "kelas=banyak_elemen(df.shape[1]-1,df)\n",
    "outlook=banyak_elemen(df.shape[1]-5,df)\n",
    "temp=banyak_elemen(df.shape[1]-4,df)\n",
    "humidity=banyak_elemen(df.shape[1]-3,df)\n",
    "windy=banyak_elemen(df.shape[1]-2,df)"
   ]
  },
  {
   "cell_type": "code",
   "execution_count": 50,
   "metadata": {},
   "outputs": [],
   "source": [
    "pKelas=probKelas(kelas,df.shape[1]-1,df)"
   ]
  },
  {
   "cell_type": "code",
   "execution_count": 51,
   "metadata": {},
   "outputs": [],
   "source": [
    "tOutlook=t_list(outlook,5)\n",
    "tTemp=t_list(temp,4)\n",
    "tHum=t_list(humidity,3)\n",
    "tWin=t_list(windy,2)"
   ]
  },
  {
   "cell_type": "code",
   "execution_count": 52,
   "metadata": {},
   "outputs": [],
   "source": [
    "eOutlook=e_list(outlook, 5)\n",
    "eTemp=e_list(temp, 4)\n",
    "eHum=e_list(humidity, 3)\n",
    "eWin=e_list(windy, 2)"
   ]
  },
  {
   "cell_type": "code",
   "execution_count": 53,
   "metadata": {},
   "outputs": [
    {
     "data": {
      "text/html": [
       "<table>\n",
       "<tbody>\n",
       "<tr><td>attributes </td><td>Jenis   </td><td>no</td><td>yes</td><td>entropy           </td><td>gain                </td></tr>\n",
       "<tr><td>OUTLOOK    </td><td>Sunny   </td><td>3 </td><td>2  </td><td>0.9709505944546686</td><td>0.2467498197744391  </td></tr>\n",
       "<tr><td>           </td><td>Overcast</td><td>0 </td><td>4  </td><td>0.0               </td><td>                    </td></tr>\n",
       "<tr><td>           </td><td>Rainy   </td><td>2 </td><td>3  </td><td>0.9709505944546686</td><td>                    </td></tr>\n",
       "<tr><td>TEMPERATURE</td><td>Hot     </td><td>2 </td><td>2  </td><td>1.0               </td><td>0.029222565658954647</td></tr>\n",
       "<tr><td>           </td><td>Mild    </td><td>2 </td><td>4  </td><td>0.9182958340544896</td><td>                    </td></tr>\n",
       "<tr><td>           </td><td>Cool    </td><td>1 </td><td>3  </td><td>0.8112781244591328</td><td>                    </td></tr>\n",
       "<tr><td>HUMIDITY   </td><td>High    </td><td>4 </td><td>3  </td><td>0.9852281360342516</td><td>0.15183550136234136 </td></tr>\n",
       "<tr><td>           </td><td>Normal  </td><td>1 </td><td>6  </td><td>0.5916727785823275</td><td>                    </td></tr>\n",
       "<tr><td>WINDY      </td><td>False   </td><td>2 </td><td>6  </td><td>0.8112781244591328</td><td>0.04812703040826927 </td></tr>\n",
       "<tr><td>           </td><td>True    </td><td>3 </td><td>3  </td><td>1.0               </td><td>                    </td></tr>\n",
       "</tbody>\n",
       "</table>"
      ],
      "text/plain": [
       "<IPython.core.display.HTML object>"
      ]
     },
     "metadata": {},
     "output_type": "display_data"
    }
   ],
   "source": [
    "from IPython.display import HTML, display\n",
    "import tabulate\n",
    "table=[\n",
    "    [\"attributes\"]+[\"Jenis\"]+[\"no\"]+[\"yes\"]+[\"entropy\"]+[\"gain\"],\n",
    "    [\"OUTLOOK\"]+[\"Sunny\"]+[tOutlook[0][0]]+[tOutlook[0][1]]+[eOutlook[0]]+[gain(tOutlook,eOutlook,pKelas,df)],\n",
    "    [\"\"]+[\"Overcast\"]+[tOutlook[1][0]]+[tOutlook[1][1]]+[eOutlook[1]]+[],\n",
    "    [\"\"]+[\"Rainy\"]+[tOutlook[2][0]]+[tOutlook[2][1]]+[eOutlook[2]]+[],\n",
    "    [\"TEMPERATURE\"]+[\"Hot\"]+[tTemp[0][0]]+[tTemp[0][1]]+[eTemp[0]]+[gain(tTemp,eTemp,pKelas,df)],\n",
    "    [\"\"]+[\"Mild\"]+[tTemp[1][0]]+[tTemp[1][1]]+[eTemp[1]]+[],\n",
    "    [\"\"]+[\"Cool\"]+[tTemp[2][0]]+[tTemp[2][1]]+[eTemp[2]]+[],\n",
    "    [\"HUMIDITY\"]+[\"High\"]+[tHum[0][0]]+[tHum[0][1]]+[eHum[0]]+[gain(tHum,eHum,pKelas,df)],\n",
    "    [\"\"]+[\"Normal\"]+[tHum[1][0]]+[tHum[1][1]]+[eHum[1]]+[],\n",
    "    [\"WINDY\"]+[\"False\"]+[tWin[0][0]]+[tWin[0][1]]+[eWin[0]]+[gain(tWin,eWin,pKelas,df)],\n",
    "    [\"\"]+[\"True\"]+[tWin[1][0]]+[tWin[1][1]]+[eWin[1]]+[],\n",
    "    ]\n",
    "\n",
    "display(HTML(tabulate.tabulate(table, tablefmt='html')))"
   ]
  }
 ],
 "metadata": {
  "kernelspec": {
   "display_name": "Python 3",
   "language": "python",
   "name": "python3"
  },
  "language_info": {
   "codemirror_mode": {
    "name": "ipython",
    "version": 3
   },
   "file_extension": ".py",
   "mimetype": "text/x-python",
   "name": "python",
   "nbconvert_exporter": "python",
   "pygments_lexer": "ipython3",
   "version": "3.7.3"
  }
 },
 "nbformat": 4,
 "nbformat_minor": 2
}
